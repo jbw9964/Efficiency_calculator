{
 "cells": [
  {
   "cell_type": "code",
   "execution_count": 1,
   "metadata": {},
   "outputs": [],
   "source": [
    "game_list = [\n",
    "    \"Genshin_impact\",\n",
    "    \"Punishing_gray_raven\",\n",
    "    \"Blue_archive\",\n",
    "    \"temp_game_1\",\n",
    "    \"temp_game_2\"\n",
    "]"
   ]
  },
  {
   "cell_type": "code",
   "execution_count": 2,
   "metadata": {},
   "outputs": [
    {
     "name": "stdout",
     "output_type": "stream",
     "text": [
      "Forcing to make new directories...\n",
      "--> [ /Data, /Data/Game_list.txt, /Data/Game_package_data ]\n",
      "[/Data] directory has been made.\n",
      "[/Data/Game_list.txt] directory has been made.\n",
      "[/Data/Game_package_data] directory has been made.\n",
      "\n",
      "[Genshin_impact] data directory has been created.\n",
      "[Genshin_impact] calculation data has been saved.\n",
      "[Genshin_impact] package data has been saved.\n",
      "\n",
      "[Punishing_gray_raven] data directory has been created.\n",
      "[Punishing_gray_raven] calculation data has been saved.\n",
      "[Punishing_gray_raven] package data has been saved.\n",
      "\n",
      "[Blue_archive] data directory has been created.\n",
      "[Blue_archive] calculation data has been saved.\n",
      "[Blue_archive] package data has been saved.\n",
      "\n",
      "[temp_game_1] data directory has been created.\n",
      "[temp_game_1] calculation data has been saved.\n",
      "[temp_game_1] package data has been saved.\n",
      "\n",
      "[temp_game_2] data directory has been created.\n",
      "[temp_game_2] calculation data has been saved.\n",
      "[temp_game_2] package data has been saved.\n",
      "\n"
     ]
    }
   ],
   "source": [
    "from utils import create_data_dir\n",
    "\n",
    "create_data_dir(Force=True, Game_name_list=game_list)"
   ]
  },
  {
   "cell_type": "code",
   "execution_count": 3,
   "metadata": {},
   "outputs": [
    {
     "name": "stdout",
     "output_type": "stream",
     "text": [
      "     Package_name     Price Value\n",
      "0   first package      1000   111\n",
      "1  seoncd package      2000   222\n",
      "2   third package      3000   333\n",
      "3  fourth package  68543206   444\n",
      "\n",
      "Index(['Package_name', 'Price', 'Value'], dtype='object')\n"
     ]
    }
   ],
   "source": [
    "import pandas as pd\n",
    "\n",
    "Package_list_1 = [\n",
    "    'first package',\n",
    "    'seoncd package',\n",
    "    'third package',\n",
    "    'fourth package'\n",
    "]\n",
    "Price_list_1 = [\n",
    "    1000, 2000, 3000, 68543206\n",
    "]\n",
    "Value_list_1 = [\n",
    "    111, 222, 333, 444\n",
    "]\n",
    "\n",
    "temp_1_pacakge = pd.DataFrame(data=[Package_list_1, Price_list_1, Value_list_1], index=[\"Package_name\", \"Price\", \"Value\"]).transpose()\n",
    "\n",
    "print(temp_1_pacakge)\n",
    "print()\n",
    "print(temp_1_pacakge.keys())\n"
   ]
  },
  {
   "cell_type": "code",
   "execution_count": 4,
   "metadata": {},
   "outputs": [
    {
     "name": "stdout",
     "output_type": "stream",
     "text": [
      "  Package_name Price Value\n",
      "0          1st  1111  1234\n",
      "1          2nd  2222  2345\n",
      "2          3rd  3333  3456\n",
      "3          4th  4444  4567\n",
      "\n",
      "Index(['Package_name', 'Price', 'Value'], dtype='object')\n"
     ]
    }
   ],
   "source": [
    "import pandas as pd\n",
    "\n",
    "Package_list_2 = [\n",
    "    '1st',\n",
    "    '2nd',\n",
    "    '3rd',\n",
    "    '4th'\n",
    "]\n",
    "Price_list_2 = [\n",
    "    1111, 2222, 3333, 4444\n",
    "]\n",
    "Value_list_2 = [\n",
    "    1234, 2345, 3456, 4567\n",
    "]\n",
    "\n",
    "temp_2_pacakge = pd.DataFrame(data=[Package_list_2, Price_list_2, Value_list_2], index=[\"Package_name\", \"Price\", \"Value\"]).transpose()\n",
    "\n",
    "print(temp_2_pacakge)\n",
    "print()\n",
    "print(temp_2_pacakge.keys())\n"
   ]
  },
  {
   "cell_type": "code",
   "execution_count": 5,
   "metadata": {},
   "outputs": [
    {
     "name": "stdout",
     "output_type": "stream",
     "text": [
      "[temp_game_1]'s data looks like already exist at [ /Data/Game_package_data/temp_game_1/Package_data_temp_game_1.txt ]\n",
      "Forcing to save data...\n",
      "[temp_game_1] package data has been saved.\n",
      "\n",
      "[temp_game_2]'s data looks like already exist at [ /Data/Game_package_data/temp_game_2/Package_data_temp_game_2.txt ]\n",
      "Forcing to save data...\n",
      "[temp_game_2] package data has been saved.\n"
     ]
    }
   ],
   "source": [
    "from utils import save_package_data\n",
    "\n",
    "save_package_data(Package_dataframe=temp_1_pacakge, Game_name=\"temp_game_1\", Force=True)\n",
    "print()\n",
    "save_package_data(Package_dataframe=temp_2_pacakge, Game_name=\"temp_game_2\", Force=True)"
   ]
  },
  {
   "cell_type": "code",
   "execution_count": 6,
   "metadata": {},
   "outputs": [
    {
     "name": "stdout",
     "output_type": "stream",
     "text": [
      "Calculating...\n",
      "[temp_game_1]'s data looks like already exist at Data/Game_package_data/temp_game_1/Calculation_temp_game_1.txt\n",
      "Forcing to save data...\n",
      "[temp_game_1] calculation data has been saved.\n",
      "[temp_game_1]'s data was calculated and saved at [ /Data/Game_package_data/temp_game_1/Calculation_temp_game_1.txt ]\n",
      "\n",
      "Calculating...\n",
      "[temp_game_2]'s data looks like already exist at Data/Game_package_data/temp_game_2/Calculation_temp_game_2.txt\n",
      "Forcing to save data...\n",
      "[temp_game_2] calculation data has been saved.\n",
      "[temp_game_2]'s data was calculated and saved at [ /Data/Game_package_data/temp_game_2/Calculation_temp_game_2.txt ]\n"
     ]
    }
   ],
   "source": [
    "from utils import calc_package_eff\n",
    "\n",
    "calc_package_eff(Game_name=\"temp_game_1\", Game_data_dir=\"Data/Game_package_data/temp_game_1\", Force=True)\n",
    "print()\n",
    "calc_package_eff(Game_name=\"temp_game_2\", Game_data_dir=\"Data/Game_package_data/temp_game_2\", Force=True)"
   ]
  },
  {
   "cell_type": "code",
   "execution_count": null,
   "metadata": {},
   "outputs": [],
   "source": []
  }
 ],
 "metadata": {
  "kernelspec": {
   "display_name": "Python 3",
   "language": "python",
   "name": "python3"
  },
  "language_info": {
   "codemirror_mode": {
    "name": "ipython",
    "version": 3
   },
   "file_extension": ".py",
   "mimetype": "text/x-python",
   "name": "python",
   "nbconvert_exporter": "python",
   "pygments_lexer": "ipython3",
   "version": "3.10.0"
  },
  "orig_nbformat": 4
 },
 "nbformat": 4,
 "nbformat_minor": 2
}
