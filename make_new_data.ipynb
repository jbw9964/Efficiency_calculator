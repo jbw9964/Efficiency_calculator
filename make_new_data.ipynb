{
 "cells": [
  {
   "attachments": {},
   "cell_type": "markdown",
   "metadata": {},
   "source": [
    "1. add_newgame_dir 제작\n",
    "- 파일 경로 중 Data - Game_package_data - [Game_name] 만드는 역할.\n",
    "- Data - Game_list.txt 에서 정보 읽고 패키지 정보 저장 위치 저장함.\n",
    "\n",
    "2. save_calculation 제작\n",
    "- 효율 계산한 결과 Game_package_data - [Game_name] 에 저장하는 역할."
   ]
  },
  {
   "cell_type": "code",
   "execution_count": 1,
   "metadata": {},
   "outputs": [
    {
     "data": {
      "text/html": [
       "<div>\n",
       "<style scoped>\n",
       "    .dataframe tbody tr th:only-of-type {\n",
       "        vertical-align: middle;\n",
       "    }\n",
       "\n",
       "    .dataframe tbody tr th {\n",
       "        vertical-align: top;\n",
       "    }\n",
       "\n",
       "    .dataframe thead th {\n",
       "        text-align: right;\n",
       "    }\n",
       "</style>\n",
       "<table border=\"1\" class=\"dataframe\">\n",
       "  <thead>\n",
       "    <tr style=\"text-align: right;\">\n",
       "      <th></th>\n",
       "      <th>Null</th>\n",
       "      <th>Genshin_impact</th>\n",
       "      <th>Punishing_gray_raven</th>\n",
       "      <th>temp_game</th>\n",
       "    </tr>\n",
       "  </thead>\n",
       "  <tbody>\n",
       "    <tr>\n",
       "      <th>0</th>\n",
       "      <td>0</td>\n",
       "      <td>Data\\Game_package_data\\Genshin_impact</td>\n",
       "      <td>Data\\Game_package_data\\Punishing_gray_raven</td>\n",
       "      <td>D:\\Documents\\Desktop\\준상\\Efficiency_calculator\\...</td>\n",
       "    </tr>\n",
       "  </tbody>\n",
       "</table>\n",
       "</div>"
      ],
      "text/plain": [
       "   Null                         Genshin_impact  \\\n",
       "0     0  Data\\Game_package_data\\Genshin_impact   \n",
       "\n",
       "                          Punishing_gray_raven  \\\n",
       "0  Data\\Game_package_data\\Punishing_gray_raven   \n",
       "\n",
       "                                           temp_game  \n",
       "0  D:\\Documents\\Desktop\\준상\\Efficiency_calculator\\...  "
      ]
     },
     "execution_count": 1,
     "metadata": {},
     "output_type": "execute_result"
    }
   ],
   "source": [
    "import os\n",
    "import pandas as pd\n",
    "import numpy as np\n",
    "\n",
    "file = pd.read_csv(\"Data\\Game_list.txt\", sep=\",\", encoding=\"UTF8\")\n",
    "\n",
    "file"
   ]
  },
  {
   "cell_type": "code",
   "execution_count": 2,
   "metadata": {},
   "outputs": [],
   "source": [
    "def add_newgame_dir(Data_dir, Game_name) : \n",
    "    \"\"\"Only creates new game directory and saves to Game_list.txt\n",
    "    \n",
    "    If some game's package data directory is already exist, function do nothing.\n",
    "\n",
    "    Creates : \n",
    "    - Current directory\n",
    "        - Data\n",
    "            - Game_package_data\n",
    "                - Game_name\n",
    "    \n",
    "    Args:\n",
    "        Data_dir (str): relative or absolute directory of \"Data\"\n",
    "        Game_name (str): name of game\n",
    "    \"\"\"\n",
    "    game_path = Data_dir + \"\\Game_package_data\"\n",
    "    \n",
    "    game_list = pd.read_csv(Data_dir + \"\\Game_list.txt\", sep=\",\", encoding=\"UTF8\")\n",
    "    \n",
    "    if Game_name in os.listdir(game_path) : \n",
    "        print(f\"{Game_name}'s data looks like already exist at {game_path}\")\n",
    "        print(os.listdir(game_path))\n",
    "        return\n",
    "    \n",
    "    game_dir = game_path + \"\\\\\" + Game_name\n",
    "    os.mkdir(game_dir)\n",
    "    \n",
    "    if Game_name in game_list.keys() : \n",
    "        game_list = game_list.drop([Game_name], axis=1)\n",
    "    \n",
    "    game_list = pd.concat([game_list, \n",
    "                           pd.Series(data=game_dir, name=Game_name)\n",
    "                           ], axis=1)\n",
    "    \n",
    "    game_list.to_csv(Data_dir + \"\\Game_list.txt\", sep=\",\", encoding=\"UTF8\", index=False)\n",
    "    print(f\"({Game_name}) data directory has been created.\")"
   ]
  },
  {
   "cell_type": "code",
   "execution_count": 3,
   "metadata": {},
   "outputs": [],
   "source": [
    "def return_data_dir(Game_name) : \n",
    "    \"\"\"Returns [Game_name]'s data directory.\n",
    "    \n",
    "    - Data - Game_package_data - Game_name\n",
    "\n",
    "    Args:\n",
    "        Game_name (str): name of game\n",
    "\n",
    "    Returns:\n",
    "        str : Data - Game_package_data - Game_name\n",
    "    \"\"\"\n",
    "    return pd.read_csv(\"Data\\Game_list.txt\", sep=\",\", encoding=\"UTF8\")[Game_name].values[0]"
   ]
  },
  {
   "cell_type": "code",
   "execution_count": 4,
   "metadata": {},
   "outputs": [],
   "source": [
    "import os\n",
    "import pandas as pd\n",
    "from pandas import DataFrame\n",
    "\n",
    "def save_calculation(Calc_dataframe : DataFrame, Game_name, Force=False) : \n",
    "    \"\"\"Save pacakge's calculation\n",
    "    \n",
    "    Directory : \n",
    "    - Data\n",
    "        - Game_package_data\n",
    "            - Game_name\n",
    "                - Calculation_Game_name.txt\n",
    "\n",
    "    Args:\n",
    "        Calc_dataframe (DataFrame): calculated DataFrame\n",
    "        Game_name (str): name of game\n",
    "        Force (bool) : whether force to save data though already exist\n",
    "    \"\"\"\n",
    "    \n",
    "    game_dir = return_data_dir(Game_name)\n",
    "    \n",
    "    if type(Calc_dataframe) != type(DataFrame()) : \n",
    "        print(f\"Args Calc_dataframe must be dataframe. --> [ Calc_dataframe : {type(Calc_dataframe)} ]\")\n",
    "        return\n",
    "    \n",
    "    game_dir = game_dir + \"\\Calculation_\" + Game_name + \".txt\"\n",
    "    \n",
    "    if os.path.isfile(game_dir) : \n",
    "        print(f\"{Game_name}'s data looks like already exist at {game_dir}\")\n",
    "        if not Force :\n",
    "            return\n",
    "        print(\"Forcing save data...\")\n",
    "    \n",
    "    Calc_dataframe.to_csv(game_dir, sep=\",\", encoding=\"UTF8\", index=False)\n",
    "    print(f\"({Game_name}) data has been saved.\")"
   ]
  },
  {
   "cell_type": "code",
   "execution_count": 9,
   "metadata": {},
   "outputs": [],
   "source": [
    "def save_package_data(Package_dataframe : DataFrame, Game_name, Force=False) : \n",
    "    \"\"\"Save package data\n",
    "\n",
    "    Args:\n",
    "        Package_dataframe (DataFrame): package data.\n",
    "        Game_name (str): name of game.\n",
    "        Force (bool, optional):whether force to save data though already exist. Defaults to False.\n",
    "    \"\"\"\n",
    "    game_dir = return_data_dir(Game_name=Game_name)\n",
    "    \n",
    "    if type(Package_dataframe) != type(DataFrame()) : \n",
    "        print(f\"Args Package_dataframe must be dataframe. --> [ Package_dataframe : {type(Package_dataframe)} ]\")\n",
    "        return\n",
    "    \n",
    "    game_dir = game_dir + \"\\Package_data.txt\"\n",
    "    \n",
    "    if os.path.isfile(game_dir) : \n",
    "        print(f\"{Game_name}'s data looks like already exist at {game_dir}\")\n",
    "        if not Force :\n",
    "            return\n",
    "        print(\"Forcing save data...\")\n",
    "    \n",
    "    Package_dataframe.to_csv(game_dir, sep=\",\", encoding=\"UTF8\", index=False)\n",
    "    print(f\"({Game_name}) data has been saved.\")"
   ]
  },
  {
   "cell_type": "code",
   "execution_count": null,
   "metadata": {},
   "outputs": [],
   "source": [
    "def read_csv(filepath) : \n",
    "    return pd.read_csv(filepath, sep=\",\", encoding=\"UTF8\")\n",
    "def save_csv(filepath, Data : DataFrame) : \n",
    "    return Data.to_csv(filepath, sep=\",\", encoding=\"UTF8\", index=False)"
   ]
  },
  {
   "cell_type": "code",
   "execution_count": null,
   "metadata": {},
   "outputs": [],
   "source": [
    "def add_package_dataframe(Package_dataframe : DataFrame, Game_name) : \n",
    "    \n",
    "    game_dir = return_data_dir(Game_name=Game_name)\n",
    "    \n",
    "    package_dir = game_dir + \"\\Package_data.txt\"\n",
    "    \n",
    "    \n",
    "    \n",
    "    pass"
   ]
  },
  {
   "cell_type": "code",
   "execution_count": 10,
   "metadata": {},
   "outputs": [
    {
     "name": "stdout",
     "output_type": "stream",
     "text": [
      "temp_game's data looks like already exist at D:\\Documents\\Desktop\\준상\\Efficiency_calculator\\Data\\Game_package_data\n",
      "['Genshin_impact', 'Punishing_gray_raven', 'temp_game']\n",
      "temp_game's data looks like already exist at D:\\Documents\\Desktop\\준상\\Efficiency_calculator\\Data\\Game_package_data\\temp_game\\Calculation_temp_game.txt\n",
      "temp_game's data looks like already exist at D:\\Documents\\Desktop\\준상\\Efficiency_calculator\\Data\\Game_package_data\\temp_game\\Package_data.txt\n"
     ]
    }
   ],
   "source": [
    "add_newgame_dir(\"D:\\Documents\\Desktop\\준상\\Efficiency_calculator\\Data\", \"temp_game\")\n",
    "save_calculation(pd.DataFrame(), \"temp_game\")\n",
    "save_package_data(pd.DataFrame(), \"temp_game\")"
   ]
  },
  {
   "cell_type": "code",
   "execution_count": null,
   "metadata": {},
   "outputs": [],
   "source": [
    "temp = pd.read_csv(\"Data\\Game_package_data\\temp_game\\Package_data.txt\", sep=)"
   ]
  }
 ],
 "metadata": {
  "kernelspec": {
   "display_name": "Python 3",
   "language": "python",
   "name": "python3"
  },
  "language_info": {
   "codemirror_mode": {
    "name": "ipython",
    "version": 3
   },
   "file_extension": ".py",
   "mimetype": "text/x-python",
   "name": "python",
   "nbconvert_exporter": "python",
   "pygments_lexer": "ipython3",
   "version": "3.10.1"
  },
  "orig_nbformat": 4,
  "vscode": {
   "interpreter": {
    "hash": "52634da84371cba311ea128a5ea7cdc41ff074b781779e754b270ff9f8153cee"
   }
  }
 },
 "nbformat": 4,
 "nbformat_minor": 2
}
